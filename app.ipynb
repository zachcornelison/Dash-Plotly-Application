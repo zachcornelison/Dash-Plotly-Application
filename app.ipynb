{
 "cells": [
  {
   "cell_type": "code",
   "execution_count": 1,
   "metadata": {},
   "outputs": [],
   "source": [
    "from jupyter_plotly_dash import JupyterDash\n",
    "\n",
    "import dash\n",
    "from dash.dependencies import Input, Output\n",
    "import dash_core_components as dcc\n",
    "import dash_html_components as html\n",
    "\n",
    "#app = JupyterDash('example')"
   ]
  },
  {
   "cell_type": "code",
   "execution_count": 2,
   "metadata": {},
   "outputs": [],
   "source": [
    "#app.layout = html.Div([\n",
    " #   dcc.Input(id='input', value='Enter something here!', type='text'),\n",
    "  #  html.Div(id='output')\n",
    "#])\n",
    "\n",
    "#@app.callback(\n",
    " #   Output(component_id='output', component_property='children'),\n",
    "  #  [Input(component_id='input', component_property='value')]\n",
    "#)\n",
    "#def update_value(input_data):\n",
    " #   try:\n",
    "  #      return str(float(input_data)**2)\n",
    "   # except:\n",
    "    #    return \"Some error\""
   ]
  },
  {
   "cell_type": "code",
   "execution_count": 3,
   "metadata": {
    "scrolled": false
   },
   "outputs": [],
   "source": [
    "#app"
   ]
  },
  {
   "cell_type": "code",
   "execution_count": 4,
   "metadata": {},
   "outputs": [],
   "source": [
    "import datetime\n",
    "import pandas_datareader.data as web"
   ]
  },
  {
   "cell_type": "code",
   "execution_count": 5,
   "metadata": {},
   "outputs": [],
   "source": [
    "app = JupyterDash('example')\n",
    "\n",
    "app.layout = html.Div(children=[\n",
    "    html.H1(children='STONKS to graph'),\n",
    "    dcc.Input(id='input', value='', type='text'),\n",
    "    html.Div(id='output-graph')\n",
    "])"
   ]
  },
  {
   "cell_type": "code",
   "execution_count": 6,
   "metadata": {},
   "outputs": [],
   "source": [
    "@app.callback(\n",
    "    Output(component_id='output-graph', component_property='children'),\n",
    "    [Input(component_id='input', component_property='value')]\n",
    "    )\n",
    "\n",
    "def update_graphh(input_data):\n",
    "    start = datetime.datetime(2019, 10, 10)\n",
    "    end = datetime.datetime.now()\n",
    "    df = web.DataReader(input_data, 'yahoo', start, end)\n",
    "    \n",
    "    return dcc.Graph(\n",
    "        id='example-graph',\n",
    "        figure={\n",
    "            'data': [\n",
    "                {'x': df.index, 'y': df.Close, 'type': 'line', 'name': input_data},\n",
    "            ],\n",
    "            'layout': {\n",
    "                'title': input_data\n",
    "            }\n",
    "        }\n",
    "    )"
   ]
  },
  {
   "cell_type": "code",
   "execution_count": 7,
   "metadata": {},
   "outputs": [
    {
     "data": {
      "text/html": [
       "<div>\n",
       "  <iframe src=\"/app/endpoints/7705d9c89d61466d8f51e13b5abcb78a/\" width=800 height=600 frameborder=\"0\"></iframe>\n",
       "  <hr/><a href=\"/app/endpoints/7705d9c89d61466d8f51e13b5abcb78a/\" target=\"_new\">Open in new window</a> for /app/endpoints/7705d9c89d61466d8f51e13b5abcb78a/\n",
       "</div>"
      ],
      "text/plain": [
       "<jupyter_plotly_dash.dash_wrapper.JupyterDash at 0x123dc20f0>"
      ]
     },
     "execution_count": 7,
     "metadata": {},
     "output_type": "execute_result"
    }
   ],
   "source": [
    "app"
   ]
  },
  {
   "cell_type": "code",
   "execution_count": null,
   "metadata": {},
   "outputs": [],
   "source": []
  }
 ],
 "metadata": {
  "kernelspec": {
   "display_name": "Python 3",
   "language": "python",
   "name": "python3"
  },
  "language_info": {
   "codemirror_mode": {
    "name": "ipython",
    "version": 3
   },
   "file_extension": ".py",
   "mimetype": "text/x-python",
   "name": "python",
   "nbconvert_exporter": "python",
   "pygments_lexer": "ipython3",
   "version": "3.7.0"
  }
 },
 "nbformat": 4,
 "nbformat_minor": 2
}
